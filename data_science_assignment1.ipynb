{
  "nbformat": 4,
  "nbformat_minor": 0,
  "metadata": {
    "colab": {
      "name": "data science assignment1",
      "provenance": [],
      "collapsed_sections": [],
      "authorship_tag": "ABX9TyPm5zbXYQhsCoVHlwa3wyfj",
      "include_colab_link": true
    },
    "kernelspec": {
      "name": "python3",
      "display_name": "Python 3"
    }
  },
  "cells": [
    {
      "cell_type": "markdown",
      "metadata": {
        "id": "view-in-github",
        "colab_type": "text"
      },
      "source": [
        "<a href=\"https://colab.research.google.com/github/gbaser54/data-science-assignments/blob/master/data_science_assignment1.ipynb\" target=\"_parent\"><img src=\"https://colab.research.google.com/assets/colab-badge.svg\" alt=\"Open In Colab\"/></a>"
      ]
    },
    {
      "cell_type": "markdown",
      "metadata": {
        "id": "7IJCWcRRw-fd",
        "colab_type": "text"
      },
      "source": [
        "Import numpy as np"
      ]
    },
    {
      "cell_type": "code",
      "metadata": {
        "id": "TD9ypR7lxC01",
        "colab_type": "code",
        "colab": {}
      },
      "source": [
        "import numpy as np"
      ],
      "execution_count": 3,
      "outputs": []
    },
    {
      "cell_type": "markdown",
      "metadata": {
        "id": "7nWrBtsAxUxG",
        "colab_type": "text"
      },
      "source": [
        "Make a python list => [1,2,3,4,5]\n",
        "\n",
        "Convert it into numpy array and print it"
      ]
    },
    {
      "cell_type": "code",
      "metadata": {
        "id": "ira2qjPDxanu",
        "colab_type": "code",
        "colab": {}
      },
      "source": [
        "list=[1,2,3,4,5]\n",
        "ne=np.array(list)"
      ],
      "execution_count": 7,
      "outputs": []
    },
    {
      "cell_type": "markdown",
      "metadata": {
        "id": "GVj3BaV9xp-Q",
        "colab_type": "text"
      },
      "source": [
        "Make a python matrix (3 x 3) => [[1,2,3],[4,5,6],[7,8,9]]\n",
        "\n",
        "Convert it into numpy array and print it"
      ]
    },
    {
      "cell_type": "code",
      "metadata": {
        "id": "MGCf9Jdzxwdc",
        "colab_type": "code",
        "colab": {
          "base_uri": "https://localhost:8080/",
          "height": 68
        },
        "outputId": "9fda9a5e-640b-4c1a-b007-ed692d79a906"
      },
      "source": [
        "lis=[[1,2,3],[4,5,6],[7,8,9]]\n",
        "arr1=np.array(lis)\n",
        "arr1.reshape(3,3)"
      ],
      "execution_count": 6,
      "outputs": [
        {
          "output_type": "execute_result",
          "data": {
            "text/plain": [
              "array([[1, 2, 3],\n",
              "       [4, 5, 6],\n",
              "       [7, 8, 9]])"
            ]
          },
          "metadata": {
            "tags": []
          },
          "execution_count": 6
        }
      ]
    },
    {
      "cell_type": "markdown",
      "metadata": {
        "id": "JdnxZZjP0l9n",
        "colab_type": "text"
      },
      "source": [
        "Make a matrix (3 x 3) using built-in methods (like arange(), reshape() etc.):\n",
        "\n",
        "[ [1,3,5],\n",
        "\n",
        "[7,9,11],\n",
        "\n",
        "[13,15,17] ]"
      ]
    },
    {
      "cell_type": "code",
      "metadata": {
        "id": "TXT_iu6q0y3K",
        "colab_type": "code",
        "colab": {
          "base_uri": "https://localhost:8080/",
          "height": 68
        },
        "outputId": "77827c54-c041-469f-bd88-83e20025adb9"
      },
      "source": [
        "li=np.arange(1,18,2).reshape(3,3)\n",
        "print(li)"
      ],
      "execution_count": null,
      "outputs": [
        {
          "output_type": "stream",
          "text": [
            "[[ 1  3  5]\n",
            " [ 7  9 11]\n",
            " [13 15 17]]\n"
          ],
          "name": "stdout"
        }
      ]
    },
    {
      "cell_type": "markdown",
      "metadata": {
        "id": "rd1rppVx2t1H",
        "colab_type": "text"
      },
      "source": [
        "Create a numpy array with 10 random numbers from 0 to 10 (there should be few numbers greater than 1)"
      ]
    },
    {
      "cell_type": "code",
      "metadata": {
        "id": "XC5UGsro21lI",
        "colab_type": "code",
        "colab": {
          "base_uri": "https://localhost:8080/",
          "height": 34
        },
        "outputId": "d3d52b3e-15e9-4cd4-d2d3-456928dc7042"
      },
      "source": [
        "arr2=np.random.randint(0,10,10)\n",
        "arr2"
      ],
      "execution_count": 11,
      "outputs": [
        {
          "output_type": "execute_result",
          "data": {
            "text/plain": [
              "array([5, 5, 8, 4, 9, 8, 1, 1, 0, 6])"
            ]
          },
          "metadata": {
            "tags": []
          },
          "execution_count": 11
        }
      ]
    },
    {
      "cell_type": "markdown",
      "metadata": {
        "id": "YZIvcZJ7EMdo",
        "colab_type": "text"
      },
      "source": [
        "Create numpy array => [1,2,3,4,5] and convert it to 2D array with 5 rows"
      ]
    },
    {
      "cell_type": "code",
      "metadata": {
        "id": "59YiTqSdEXbG",
        "colab_type": "code",
        "colab": {
          "base_uri": "https://localhost:8080/",
          "height": 102
        },
        "outputId": "9769a6f7-a0be-49fd-eb7d-a156dd4dfcfa"
      },
      "source": [
        "list2=[1,2,3,4,5]\n",
        "arr3=np.array(list2)\n",
        "arr3.reshape(5,1)"
      ],
      "execution_count": 12,
      "outputs": [
        {
          "output_type": "execute_result",
          "data": {
            "text/plain": [
              "array([[1],\n",
              "       [2],\n",
              "       [3],\n",
              "       [4],\n",
              "       [5]])"
            ]
          },
          "metadata": {
            "tags": []
          },
          "execution_count": 12
        }
      ]
    },
    {
      "cell_type": "markdown",
      "metadata": {
        "id": "6SqcboS5EzjF",
        "colab_type": "text"
      },
      "source": [
        "\n",
        "Print the shape of the above created array"
      ]
    },
    {
      "cell_type": "code",
      "metadata": {
        "id": "H0b59ri2E1Jh",
        "colab_type": "code",
        "colab": {
          "base_uri": "https://localhost:8080/",
          "height": 34
        },
        "outputId": "16865417-cadf-40bf-e0d1-476778a75006"
      },
      "source": [
        "arr4=arr3.reshape(5,1)\n",
        "arr4.shape"
      ],
      "execution_count": 17,
      "outputs": [
        {
          "output_type": "execute_result",
          "data": {
            "text/plain": [
              "(5, 1)"
            ]
          },
          "metadata": {
            "tags": []
          },
          "execution_count": 17
        }
      ]
    },
    {
      "cell_type": "markdown",
      "metadata": {
        "id": "oAs6HF6eFxYe",
        "colab_type": "text"
      },
      "source": [
        "Create a numpy array with 10 elements in it. Access and print its 3rd, 4th and 9th element."
      ]
    },
    {
      "cell_type": "code",
      "metadata": {
        "id": "trHyBBkGF1un",
        "colab_type": "code",
        "colab": {
          "base_uri": "https://localhost:8080/",
          "height": 34
        },
        "outputId": "11fa9c72-645f-4d33-da24-1125a1a58f4a"
      },
      "source": [
        "list4=[1,2,3,4,5,6,7,8,9,10]\n",
        "ranrr2=np.array(list4)\n",
        "ranrr2[2]\n",
        "ranrr2[3]\n",
        "ranrr2[8]\n"
      ],
      "execution_count": 29,
      "outputs": [
        {
          "output_type": "execute_result",
          "data": {
            "text/plain": [
              "9"
            ]
          },
          "metadata": {
            "tags": []
          },
          "execution_count": 29
        }
      ]
    },
    {
      "cell_type": "markdown",
      "metadata": {
        "id": "llvF9IGuH54A",
        "colab_type": "text"
      },
      "source": [
        "Print alternate elements of that array"
      ]
    },
    {
      "cell_type": "code",
      "metadata": {
        "id": "a3E49-6vIAGZ",
        "colab_type": "code",
        "colab": {
          "base_uri": "https://localhost:8080/",
          "height": 102
        },
        "outputId": "8e483a2c-baa5-492d-f32a-a5d7f9a0418c"
      },
      "source": [
        "i=0\n",
        "while i<ranrr2.size:\n",
        "  print(ranrr2[i])\n",
        "  i=i+2\n"
      ],
      "execution_count": 33,
      "outputs": [
        {
          "output_type": "stream",
          "text": [
            "1\n",
            "3\n",
            "5\n",
            "7\n",
            "9\n"
          ],
          "name": "stdout"
        }
      ]
    },
    {
      "cell_type": "markdown",
      "metadata": {
        "id": "VK0aDSuVa4I3",
        "colab_type": "text"
      },
      "source": [
        "\n",
        "Change last 3 elements into 100 using broadcasting and print"
      ]
    },
    {
      "cell_type": "code",
      "metadata": {
        "id": "vvDmh0XUa-j2",
        "colab_type": "code",
        "colab": {
          "base_uri": "https://localhost:8080/",
          "height": 34
        },
        "outputId": "92a90a78-4b93-4e0f-df08-6831d3066da8"
      },
      "source": [
        "ranrr2[7:10]=100\n",
        "ranrr2"
      ],
      "execution_count": 38,
      "outputs": [
        {
          "output_type": "execute_result",
          "data": {
            "text/plain": [
              "array([  1,   2,   3,   4,   5,   6,   7, 100, 100, 100])"
            ]
          },
          "metadata": {
            "tags": []
          },
          "execution_count": 38
        }
      ]
    },
    {
      "cell_type": "markdown",
      "metadata": {
        "id": "yieUOsZfcHgi",
        "colab_type": "text"
      },
      "source": [
        "Create a 5 x 5 matrix (fill it with any element you like), print it.\n",
        "\n",
        "Then print the middle (3 x 3) matrix."
      ]
    },
    {
      "cell_type": "code",
      "metadata": {
        "id": "GIpWq-pZcONN",
        "colab_type": "code",
        "colab": {
          "base_uri": "https://localhost:8080/",
          "height": 68
        },
        "outputId": "c01bf825-fecf-45d2-d5f2-bac4ec5fb907"
      },
      "source": [
        "ranrr3=np.arange(25)\n",
        "ranrr3.reshape(5,5)\n",
        "ranrr4=ranrr3.reshape(5,5)\n",
        "ranrr4[1:4, 1:4]"
      ],
      "execution_count": 56,
      "outputs": [
        {
          "output_type": "execute_result",
          "data": {
            "text/plain": [
              "array([[ 6,  7,  8],\n",
              "       [11, 12, 13],\n",
              "       [16, 17, 18]])"
            ]
          },
          "metadata": {
            "tags": []
          },
          "execution_count": 56
        }
      ]
    }
  ]
}